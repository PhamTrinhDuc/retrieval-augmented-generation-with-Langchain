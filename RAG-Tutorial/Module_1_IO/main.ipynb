{
 "cells": [
  {
   "cell_type": "code",
   "execution_count": null,
   "metadata": {},
   "outputs": [],
   "source": []
  },
  {
   "cell_type": "code",
   "execution_count": null,
   "metadata": {},
   "outputs": [],
   "source": []
  },
  {
   "cell_type": "markdown",
   "metadata": {},
   "source": [
    "## **1. CHAT MODELS**"
   ]
  },
  {
   "cell_type": "markdown",
   "metadata": {},
   "source": [
    "```\n",
    "Khởi tạo 1 llm để chat \n",
    "```"
   ]
  },
  {
   "cell_type": "code",
   "execution_count": 3,
   "metadata": {},
   "outputs": [
    {
     "name": "stdout",
     "output_type": "stream",
     "text": [
      "Thủ đô của nước Việt Nam là Hà Nội.\n"
     ]
    }
   ],
   "source": [
    "from langchain_groq import ChatGroq\n",
    "import os\n",
    "\n",
    "llm = ChatGroq(model=\"llama3-70b-8192\", \n",
    "                api_key=os.getenv(\"GROQ_API_KEY\"),\n",
    "                temperature=0.1)\n",
    "\n",
    "response = llm.invoke(\"Thủ đô của nước Việt Nam là gì ? \")\n",
    "print(response.content)"
   ]
  },
  {
   "cell_type": "markdown",
   "metadata": {},
   "source": [
    "```Thêm instruction cho mô hình```"
   ]
  },
  {
   "cell_type": "code",
   "execution_count": 4,
   "metadata": {},
   "outputs": [
    {
     "name": "stdout",
     "output_type": "stream",
     "text": [
      "Tôi được phát triển bởi công ty OpenAI, một công ty công nghệ trí tuệ nhân tạo có trụ sở tại San Francisco, California, Hoa Kỳ.\n"
     ]
    }
   ],
   "source": [
    "from langchain.schema.messages import HumanMessage, SystemMessage\n",
    "\n",
    "messages = [\n",
    "    SystemMessage(content=\"Bạn là mô hình ngôn ngữ lớn ChatGPT\"),\n",
    "    HumanMessage(content=\"Bạn được phát triển bởi công ty nào ? Lưu ý: Chỉ được sử dụng tiếng Việt dể trả lời.\")\n",
    "]\n",
    "\n",
    "response = llm.invoke(messages)\n",
    "print(response.content)"
   ]
  },
  {
   "cell_type": "markdown",
   "metadata": {},
   "source": [
    "## **2. PROMPTS**\n",
    "```\n",
    "Prompt là 1 phần thiết yếu trong việc hướng dẫn llm để tạo ra kết quả phù hợp và mạch lạc.\n",
    "```"
   ]
  },
  {
   "cell_type": "code",
   "execution_count": 5,
   "metadata": {},
   "outputs": [
    {
     "name": "stdout",
     "output_type": "stream",
     "text": [
      "Phở bò, một món ăn quốc hồn quốc túy của Việt Nam! Phở bò là một món ăn truyền thống, được ưa chuộng và phổ biến rộng rãi trên toàn quốc.\n",
      "\n",
      "Phở bò được làm từ các nguyên liệu chính là bánh phở (được làm từ bột gạo), nước dùng (được ninh từ xương bò và các gia vị), thịt bò (thịt bò chín hoặc bò tái), và các gia vị như hành, gừng, chanh, ớt... Tùy vào từng vùng miền, phở bò có thể được chế biến và phục vụ theo nhiều cách khác nhau.\n",
      "\n",
      "Tại Hà Nội, phở bò được coi là một món ăn đặc sản, với nước dùng trong veo, ngọt và thơm, bánh phở mềm và dai, thịt bò chín mềm và ngọt. Phở bò Hà Nội thường được phục vụ với các gia vị như chanh, ớt, hành, gừng, và một ít rau thơm.\n",
      "\n",
      "Tại Sài Gòn, phở bò được chế biến với nước dùng đậm đà hơn, bánh phở dai hơn, và thịt bò được xào với các gia vị như tỏi, ớt, và sa tế. Phở bò Sài Gòn thường được phục vụ với các gia vị như chanh, ớt, hành, và một ít rau thơm.\n",
      "\n",
      "Phở bò không chỉ là một món ăn ngon, mà còn là một phần của văn hóa và truyền thống Việt Nam. Phở bò được phục vụ tại các quán ăn, nhà hàng, và thậm chí là trên đường phố. Phở bò cũng được coi là một món ăn phổ biến trong các dịp lễ, Tết, và các sự kiện quan trọng.\n",
      "\n",
      "Tóm lại, phở bò là một món ăn tuyệt vời, mang lại hương vị và văn hóa Việt Nam. Nếu bạn chưa từng thử phở bò, hãy đến Việt Nam và thưởng thức ngay nhé!\n"
     ]
    }
   ],
   "source": [
    "\"\"\"Sử dụng PromptTemplate từ Langchain để tạo 1 prompt\"\"\"\n",
    "from langchain.prompts import PromptTemplate\n",
    "\n",
    "prompt = PromptTemplate.from_template(\n",
    "    \"Hãy nói cho về món {item} tại {country} . Lưu ý: chỉ được sử dụng tiếng Việt để trả lời.\"\n",
    ")\n",
    "\n",
    "response = llm.invoke(prompt.format(item = \"Phở Bò\", country=\"Việt Nam\"))\n",
    "print(response.content)"
   ]
  },
  {
   "cell_type": "code",
   "execution_count": 7,
   "metadata": {},
   "outputs": [
    {
     "name": "stdout",
     "output_type": "stream",
     "text": [
      "Xin chào! Ở Việt Nam có 54 dân tộc anh em.\n"
     ]
    }
   ],
   "source": [
    "from langchain.prompts import ChatPromptTemplate\n",
    "\n",
    "\n",
    "\"\"\"Định nghĩa 1 prompt với nhiều vai trò khác nhau trong prompt sử dụng ChatPromptTemplate từ langchain.\"\"\"\n",
    "\n",
    "prompt = ChatPromptTemplate.from_messages(\n",
    "    [\n",
    "        (\"system\", \"Bạn là 1 trợ lý ảo hữu ích. Tên của bạn là {name}\"),\n",
    "        (\"human\", \"Xin chào, bạn có khỏe không ?\"),\n",
    "        (\"ai\", \"Tôi khỏe, cảm ơn bạn !\"),\n",
    "        (\"human\", \"{user_input}\")\n",
    "    ]\n",
    ")\n",
    "\n",
    "formated_messages = prompt.format(name=\"Llama\", user_input=\"Đất nước Việt Nam có bao nhiêu dân tộc ? Lưu ý: bạn chỉ được trả lời bằng tiếng việt.\")\n",
    "response = llm.invoke(formated_messages)\n",
    "print(response.content)"
   ]
  },
  {
   "cell_type": "markdown",
   "metadata": {},
   "source": [
    "## **3. OUTPUT PARSERS**\n",
    "\n",
    "```Trình phân tích cú pháp đầu ra đóng một vai trò quan trọng trong Langchain, cho phép người dùng cấu trúc các phản hồi do mô hình ngôn ngữ tạo ra.```"
   ]
  },
  {
   "cell_type": "markdown",
   "metadata": {},
   "source": [
    "#### **3.1 PydanticOutputParser**"
   ]
  },
  {
   "cell_type": "code",
   "execution_count": 22,
   "metadata": {},
   "outputs": [
    {
     "name": "stdout",
     "output_type": "stream",
     "text": [
      "question:  Thành phố lớn nhất của Việt Nam là gì?\n",
      "answer:  Hà Nội\n"
     ]
    }
   ],
   "source": [
    "from typing import List\n",
    "from langchain.output_parsers import PydanticOutputParser\n",
    "from langchain.prompts import PromptTemplate\n",
    "from langchain.pydantic_v1 import BaseModel, Field, validator\n",
    "\n",
    "\n",
    "# Init the language model\n",
    "llm = ChatGroq(model=\"llama3-70b-8192\", \n",
    "                api_key=os.getenv(\"GROQ_API_KEY\"),\n",
    "                temperature=0.1)\n",
    "\n",
    "\"\"\"Định nghĩa cấu trúc dữ liệu mong muốn bằng Pydantic\"\"\"\n",
    "class Joke(BaseModel):\n",
    "    setup: str = Field()\n",
    "    punchline: str = Field()\n",
    "\n",
    "    @validator(\"setup\")\n",
    "    def question_ends_with_question_mark(cls, field):\n",
    "        if field[-1] != \"?\":\n",
    "            raise ValueError(\"Câu hỏi không đúng định dạng\")\n",
    "        return field\n",
    "    \n",
    "\"\"\"Setup PydanticOuputParser\"\"\"\n",
    "parser = PydanticOutputParser(pydantic_object=Joke)\n",
    "\n",
    "\"\"\"Tạo 1 prompt\"\"\"\n",
    "prompt = PromptTemplate(\n",
    "    input_variables=['query'],\n",
    "    template=\"Trả lời câu hỏi của người dùng.\\n{format_instructions}\\n{query}\\n\",\n",
    "    partial_variables={\"format_instructions\": parser.get_format_instructions()},\n",
    ")\n",
    "\n",
    "\"\"\"địng nghĩa 1 prompt\"\"\"\n",
    "query = \"Hãy hỏi 1 câu về Việt Nam. Lưu ý: Bạn chỉ được sử dụng tiếng việt\"\n",
    "\n",
    "\"\"\"combine prompt vs llm\"\"\"\n",
    "chain = prompt | llm\n",
    "output = chain.invoke({\"query\": query})\n",
    "\n",
    "\"\"\"Phân tích cú pháp (parser) sử dụng parser\"\"\"\n",
    "parsed_query = parser.invoke(output)\n",
    "print(\"question: \", parsed_query.setup)\n",
    "print(\"answer: \", parsed_query.punchline)\n",
    "\n",
    "\n"
   ]
  },
  {
   "cell_type": "markdown",
   "metadata": {},
   "source": [
    "#### **3.2 SimpleJsonOutputParser**"
   ]
  },
  {
   "cell_type": "code",
   "execution_count": 31,
   "metadata": {},
   "outputs": [
    {
     "name": "stdout",
     "output_type": "stream",
     "text": [
      "{'ngày sinh': '19/05/1890', 'nơi sinh': 'Hồ Chí Minh sinh tại làng Hoàng Trù, huyện Nam Đàn, tỉnh Nghệ An'}\n"
     ]
    }
   ],
   "source": [
    "from langchain.output_parsers.json import SimpleJsonOutputParser\n",
    "\n",
    "\"\"\"tạo 1 JSON prompt\"\"\"\n",
    "json_prompt = PromptTemplate.from_template(\n",
    "    \"Trả về 1 JSON gồm chỉ gồm các khóa 'ngày sinh' và 'nơi sinh' để trả lời câu hỏi: {question}\"\n",
    ")\n",
    "\n",
    "\"\"\"Khởi tạo 1 JSON parser\"\"\"\n",
    "json_parser = SimpleJsonOutputParser()\n",
    "\n",
    "\"\"\"Combine các thành phần lại với nhau\"\"\"\n",
    "json_chain = json_prompt | llm | json_parser\n",
    "\n",
    "\n",
    "response = list(json_chain.stream({\"question\": \"Ngày tháng năm sinh và nơi sinh của Chủ tịch Hồ Chí Minh ? Lưu ý: Bạn chỉ được sử dụng tiếng Việt\"}))\n",
    "\n",
    "print(response[-1])\n",
    "                "
   ]
  },
  {
   "cell_type": "markdown",
   "metadata": {},
   "source": [
    "#### **3.3 CommaSeparatedListOutputParser**"
   ]
  },
  {
   "cell_type": "code",
   "execution_count": 52,
   "metadata": {},
   "outputs": [
    {
     "name": "stdout",
     "output_type": "stream",
     "text": [
      "['Manchester City', 'Liverpool', 'Chelsea', 'Arsenal', 'Tottenham']\n"
     ]
    }
   ],
   "source": [
    "from langchain.output_parsers import CommaSeparatedListOutputParser\n",
    "from langchain.prompts import PromptTemplate\n",
    "from groq import Groq\n",
    "\n",
    "\n",
    "\"\"\"Khởi tạo parser\"\"\"\n",
    "output_parser = CommaSeparatedListOutputParser()\n",
    "\n",
    "\"\"\"Tạo 1 hướng dẫn cho model\"\"\"\n",
    "format_instruction = output_parser.get_format_instructions()\n",
    "\n",
    "\"\"\"Tạo 1 prompt\"\"\"\n",
    "prompt = PromptTemplate(\n",
    "    input_variables=[\"subject\"],\n",
    "    template=\"1 danh sách gồm 5 {subject}\\{format_instruction}. Lưu ý: Bạn chỉ được sử dụng tiếng việt dể  trả lời, chỉ đưa 2 5 subject, không cần gì thêm.\",\n",
    "    partial_variables={\"format_instruction\": format_instruction}\n",
    ")\n",
    "\n",
    "\"\"\"Tạo query\"\"\"\n",
    "query = \"5 đội bóng ở giải đấu ngoại hạng Anh\"\n",
    "\n",
    "\"\"\"Invoke\"\"\"\n",
    "response = llm.invoke(prompt.format(subject=query))\n",
    "\"\"\"Parser output using output_parser\"\"\"\n",
    "output_parsed = output_parser.parse(response.content)\n",
    "\n",
    "print(output_parsed)"
   ]
  },
  {
   "cell_type": "markdown",
   "metadata": {},
   "source": [
    "#### **3.4 DatetimeOutputParser**"
   ]
  },
  {
   "cell_type": "code",
   "execution_count": 65,
   "metadata": {},
   "outputs": [
    {
     "name": "stdout",
     "output_type": "stream",
     "text": [
      "1939-09-01 04:45:00\n"
     ]
    }
   ],
   "source": [
    "from langchain.prompts import PromptTemplate\n",
    "from langchain.output_parsers import DatetimeOutputParser\n",
    "from langchain.chains import LLMChain\n",
    "\n",
    "\n",
    "\"\"\"Init the DatetimeOutputParser\"\"\"\n",
    "output_parser = DatetimeOutputParser()\n",
    "\n",
    "\"\"\"Tạo 1 template instruction\"\"\"\n",
    "\n",
    "template = \"\"\"\n",
    "Câu trả lời cho câu hỏi của người dùng:\n",
    "{question}\n",
    "{format_instruction}\n",
    "Lưu ý: Bạn chỉ được sử dụng tiếng việt dể  trả lời.\n",
    "\"\"\"\n",
    "\n",
    "prompt = PromptTemplate(\n",
    "    input_variables=[\"question\"],\n",
    "    template=template,\n",
    "    partial_variables={\"format_instruction\": output_parser.get_format_instructions()},\n",
    ")\n",
    "\n",
    "\"\"\"Combine các thành phần lại với nhau\"\"\"\n",
    "chain = prompt | llm\n",
    "\n",
    "\"\"\"Định nghĩa 1 query\"\"\"\n",
    "query = \"Ngày xảy ra thế chiến thứ 2 là khi nào ?\"\n",
    "\n",
    "response = llm.invoke(prompt.format(question=query))\n",
    "\n",
    "\"\"\"Parse output using datetime parser\"\"\"\n",
    "parsed_output = output_parser.parse(response.content)\n",
    "\n",
    "print(parsed_output)"
   ]
  },
  {
   "cell_type": "code",
   "execution_count": null,
   "metadata": {},
   "outputs": [],
   "source": []
  }
 ],
 "metadata": {
  "kernelspec": {
   "display_name": "base",
   "language": "python",
   "name": "python3"
  },
  "language_info": {
   "codemirror_mode": {
    "name": "ipython",
    "version": 3
   },
   "file_extension": ".py",
   "mimetype": "text/x-python",
   "name": "python",
   "nbconvert_exporter": "python",
   "pygments_lexer": "ipython3",
   "version": "3.1.-1"
  }
 },
 "nbformat": 4,
 "nbformat_minor": 2
}
