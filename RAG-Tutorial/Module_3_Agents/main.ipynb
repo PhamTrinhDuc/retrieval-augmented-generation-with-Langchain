{
 "cells": [
  {
   "cell_type": "code",
   "execution_count": null,
   "metadata": {},
   "outputs": [],
   "source": []
  },
  {
   "cell_type": "markdown",
   "metadata": {},
   "source": [
    "# **1. TOOLS**"
   ]
  },
  {
   "cell_type": "markdown",
   "metadata": {},
   "source": [
    "### **1.1 DUCKDUCKGO**"
   ]
  },
  {
   "cell_type": "code",
   "execution_count": 1,
   "metadata": {},
   "outputs": [
    {
     "data": {
      "text/plain": [
       "\"Căn cứ quy định trên thì Thủ đô Hà Nội (Thủ đô Việt Nam) là trung tâm chính trị hành chính quốc gia, nơi đặt trụ sở của các cơ quan trung ương của Đảng, Nhà nước và các tổ chức chính trị - xã hội, cơ quan đại diện ngoại giao, tổ chức quốc tế. Thủ đô Hà Nội là thành phố kết nối toàn cầu, có mức sống và chất lượng cuộc sống cao, với GRDP/người đạt trên 36.000 USD; kinh tế, văn hoá, xã hội phát triển toàn diện, đặc sắc và hài hoà; tiêu biểu cho cả nước; có trình độ phát triển ngang tầm thủ đô các ... Hà Nội là Thủ đô và một trong hai đô thị loại đặc biệt của Việt Nam. Trong các bài viết giới thiệu về Hà Nội, thành phố này có vị trí từ 20°53' đến 21°23' vĩ độ Bắc và 105°44' đến 106°02' kinh độ Đông, thuộc khu vực trung tâm vùng đồng bằng sông Hồng ... Vài nét về lịch sử Hà Nội qua các thời kỳ. Hà Nội không chỉ được biết đến là Thủ đô của Việt Nam mà đây còn là trung tâm chính trị, kinh tế, văn hóa lớn của đất nước. Lịch sử Hà Nội gắn liền với những thăng trầm của dân tộc, từng là kinh đô của hầu ... Hà Nội là Thủ đô và một trong hai đô thị loại đặc biệt của Việt Nam. Trong các bài viết giới thiệu về Hà Nội, thành phố này có vị trí từ 20°53' đến 21°23' vĩ độ Bắc và 105°44' đến 106°02' kinh độ Đông, thuộc khu vực trung tâm vùng đồng bằng sông Hồng ...\""
      ]
     },
     "execution_count": 1,
     "metadata": {},
     "output_type": "execute_result"
    }
   ],
   "source": [
    "from langchain.tools import DuckDuckGoSearchRun\n",
    "search = DuckDuckGoSearchRun()\n",
    "search.run(\"Thủ đô của nước Việt Nam là gì ?\")"
   ]
  },
  {
   "cell_type": "markdown",
   "metadata": {},
   "source": [
    "### **1.2 TAVILY_SEARCH**"
   ]
  },
  {
   "cell_type": "code",
   "execution_count": 2,
   "metadata": {},
   "outputs": [
    {
     "name": "stdout",
     "output_type": "stream",
     "text": [
      "https://dienmaythienphu.vn/tin-tuc/dieu-hoa-daikin-inverter-co-uu-nhuoc-diem-gi-co-nen-mua-hay-khong\n",
      "Điều hòa Daikin inverter là dòng máy có nhiều ưu điểm như tiết kiệm điện, vận hành êm và có khả năng duy trì nhiệt độ phòng luôn ổn định. \\bTuy nhiên giá máy lại cao hơn khá nhiều so với điều hòa cơ cùng công suất. Cùng Điện Máy Thiên Phú tìm hiểu ưu, nhược điểm của dòng máy này nhé.\n",
      "----------------------------------------------------------------------------------------------------\n",
      "https://suadieuhoadaikin.com.vn/dieu-hoa-daikin-inverter-uu-diem-va-nhuoc-diem/\n",
      "Điều Hòa Daikin Inverter: Ưu Điểm Và Nhược Điểm, với khả năng vận hành êm ái, ổn định, không gây ra tiếng ồn khó chịu làm ảnh hưởng sinh hoạt, đồng thời máy có khả năng tiết kiệm điện hiệu quả, điều hòa Daikin Inverter trở thành một thiết bị được nhiều khách ...\n",
      "----------------------------------------------------------------------------------------------------\n",
      "https://dienmayact.com/blogs/dieu-hoa-trung-tam/uu-diem-va-nhuoc-diem-dieu-hoa-daikin\n",
      "Ưu điểm vượt trội của điều hòa Daikin. 2. Nhược điểm của điều hòa Daikin. Cùng với những ưu điểm được nêu trên thì điều hòa Daikin có một số nhược điểm nhỏ sau: - Giá thành của Daikin cao hơn loại máy điều hòa thường cùng công suất. - Điều hòa Inverter sử ...\n",
      "----------------------------------------------------------------------------------------------------\n",
      "https://websosanh.vn/tin-tuc/review-uu-nhuoc-diem-cua-dieu-hoa-daikin-c41-20230301071354933.htm\n",
      "Bài viết review ưu - nhược điểm của điều hòa Daikin này sẽ giúp bạn biết được có nên mua điều hòa Daikin không. Sở hữu nhiều ưu điểm vượt trội như: làm lạnh nhanh chóng; tiết kiệm điện năng; vận hành êm ái và bền bỉ nên máy điều hòa Daikin của Nhật Bản ...\n",
      "----------------------------------------------------------------------------------------------------\n",
      "https://mediamart.vn/tu-van-dieu-hoa/uu-va-nhuoc-diem-cua-dieu-hoa-su-dung-cong-nghe-inverter\n",
      "Ưu, nhược điểm của điều hòa sử dụng công nghệ Inverter. Ưu điểm. Nhiệt độ phòng được duy trì ổn định. Một trong những ưu điểm lớn nhất của công nghệ Inverter đó là hoạt động rất chính xác và hiệu suất chuyển đổi dòng điện rất cao, do sử dụng các linh ...\n",
      "----------------------------------------------------------------------------------------------------\n"
     ]
    }
   ],
   "source": [
    "from langchain_community.tools.tavily_search import TavilySearchResults\n",
    "import os\n",
    "\n",
    "os.environ['TAVILY_API_KEY'] = os.getenv(\"TAVILY_API_KEY\")\n",
    "\n",
    "search = TavilySearchResults()\n",
    "\n",
    "tools = [search]\n",
    "\n",
    "results = search.invoke({ # tự top_k\n",
    "    \"query\": \"ưu và nhược điểm của Điều hòa Daikin Inverter\",\n",
    "    \"include_answer\": False,   # True: có thể tự trả lời query\n",
    "})\n",
    "\n",
    "for result in results:\n",
    "    print(result['url'])\n",
    "    print(result['content'])\n",
    "    print(\"-\" * 100)"
   ]
  },
  {
   "cell_type": "markdown",
   "metadata": {},
   "source": [
    "### **1.3 SHELL (bash)**"
   ]
  },
  {
   "cell_type": "code",
   "execution_count": 3,
   "metadata": {},
   "outputs": [
    {
     "name": "stdout",
     "output_type": "stream",
     "text": [
      "Executing command:\n",
      " [\"echo 'hello world!'\", 'time']\n",
      "hello world!\n",
      "time: missing program to run\n",
      "Try 'time --help' for more information.\n",
      "\n"
     ]
    },
    {
     "name": "stderr",
     "output_type": "stream",
     "text": [
      "/home/ducpham/anaconda3/lib/python3.11/site-packages/langchain_community/tools/shell/tool.py:32: UserWarning: The shell tool has no safeguards by default. Use at your own risk.\n",
      "  warnings.warn(\n"
     ]
    }
   ],
   "source": [
    "from langchain.tools import ShellTool\n",
    "\n",
    "shell_tool = ShellTool()\n",
    "\n",
    "results = shell_tool.run({\"commands\": [\"echo 'hello world!'\", \"time\"]})\n",
    "print(results)"
   ]
  },
  {
   "cell_type": "code",
   "execution_count": 6,
   "metadata": {},
   "outputs": [],
   "source": [
    "# from langchain.agents import AgentType, initialize_agent\n",
    "# from langchain_groq import ChatGroq\n",
    "# import os\n",
    "\n",
    "# llm = ChatGroq(model=\"llama3-70b-8192\", \n",
    "#                 api_key=os.getenv(\"GROQ_API_KEY\"),\n",
    "#                 temperature=0.1)\n",
    "\n",
    "# shell_tool.description = shell_tool.description + f\"args {shell_tool.args}\".replace(\n",
    "#     \"{\", \"{{\"\n",
    "# ).replace(\"}\", \"}}\")\n",
    "# self_ask_with_search = initialize_agent(\n",
    "#     [shell_tool], llm, agent=AgentType.CHAT_ZERO_SHOT_REACT_DESCRIPTION, verbose=True\n",
    "# )\n",
    "# self_ask_with_search.run(\n",
    "#     \"Download the langchain.com webpage and grep for all urls. Return only a sorted list of them. Be sure to use double quotes.\"\n",
    "# )"
   ]
  },
  {
   "cell_type": "markdown",
   "metadata": {},
   "source": [
    "# **2. AGENTS**"
   ]
  },
  {
   "cell_type": "code",
   "execution_count": 7,
   "metadata": {},
   "outputs": [
    {
     "data": {
      "text/plain": [
       "AIMessage(content='Có 7 kí tự trong từ \"VIETNAM\":\\n\\n1. V\\n2. I\\n3. E\\n4. T\\n5. N\\n6. A\\n7. M', response_metadata={'token_usage': {'completion_tokens': 42, 'prompt_tokens': 22, 'total_tokens': 64, 'completion_time': 0.12, 'prompt_time': 0.006122159, 'queue_time': None, 'total_time': 0.12612215899999998}, 'model_name': 'llama3-70b-8192', 'system_fingerprint': 'fp_753a4aecf6', 'finish_reason': 'stop', 'logprobs': None}, id='run-96617adf-f56e-4f27-b3e7-a09933ddfbef-0')"
      ]
     },
     "execution_count": 7,
     "metadata": {},
     "output_type": "execute_result"
    }
   ],
   "source": [
    "from langchain_groq import ChatGroq\n",
    "import os\n",
    "\n",
    "llm = ChatGroq(model=\"llama3-70b-8192\", \n",
    "                api_key=os.getenv(\"GROQ_API_KEY\"),\n",
    "                temperature=0.1)\n",
    "\n",
    "llm.invoke(\"Có bao nhiêu kí tự trong từ VIETNAM\")"
   ]
  },
  {
   "cell_type": "markdown",
   "metadata": {},
   "source": [
    "### **2.1 CUSTOM TOOL**"
   ]
  },
  {
   "cell_type": "code",
   "execution_count": 23,
   "metadata": {},
   "outputs": [
    {
     "data": {
      "text/plain": [
       "5"
      ]
     },
     "execution_count": 23,
     "metadata": {},
     "output_type": "execute_result"
    }
   ],
   "source": [
    "from langchain.agents import tool\n",
    "\n",
    "@tool\n",
    "def get_word_length(word: str) -> int:\n",
    "    \"\"\"Return the length of a word\"\"\"\n",
    "    return len(word)\n",
    "\n",
    "get_word_length.invoke(\"Hello\")"
   ]
  },
  {
   "cell_type": "code",
   "execution_count": 24,
   "metadata": {},
   "outputs": [],
   "source": [
    "from langchain.prompts import ChatPromptTemplate, MessagesPlaceholder\n",
    "\n",
    "prompt = ChatPromptTemplate.from_messages(\n",
    "    [\n",
    "        (\"system\", \"Bạn là 1 trợ lý hữu ích nhưng không giỏi tính toán độ dài từ\"),\n",
    "        (\"user\", \"{input}\"),\n",
    "        MessagesPlaceholder(variable_name=\"agent_scratchpad\")\n",
    "    ]\n",
    ")"
   ]
  },
  {
   "cell_type": "code",
   "execution_count": 25,
   "metadata": {},
   "outputs": [],
   "source": [
    "from langchain.agents.output_parsers.openai_tools import OpenAIToolsAgentOutputParser\n",
    "from langchain.agents.format_scratchpad.openai_tools import format_to_openai_tool_messages\n",
    "\n",
    "# Bind tools\n",
    "llm_with_tools = llm.bind_tools(tools)\n",
    "\n",
    "agent = (\n",
    "    {\n",
    "        \"input\": lambda x : x[\"input\"],\n",
    "        \"agent_scratchpad\": lambda x: format_to_openai_tool_messages(\n",
    "            x[\"intermediate_steps\"]\n",
    "        )\n",
    "    }\n",
    "    | prompt \n",
    "    | llm_with_tools \n",
    "    | OpenAIToolsAgentOutputParser() # cho ra output như các shell bên trên\n",
    ")"
   ]
  },
  {
   "cell_type": "code",
   "execution_count": 26,
   "metadata": {},
   "outputs": [
    {
     "data": {
      "text/plain": [
       "{\n",
       "  input: RunnableLambda(...),\n",
       "  agent_scratchpad: RunnableLambda(...)\n",
       "}\n",
       "| ChatPromptTemplate(input_variables=['agent_scratchpad', 'input'], input_types={'agent_scratchpad': typing.List[typing.Union[langchain_core.messages.ai.AIMessage, langchain_core.messages.human.HumanMessage, langchain_core.messages.chat.ChatMessage, langchain_core.messages.system.SystemMessage, langchain_core.messages.function.FunctionMessage, langchain_core.messages.tool.ToolMessage]]}, messages=[SystemMessagePromptTemplate(prompt=PromptTemplate(input_variables=[], template='Bạn là 1 trợ lý hữu ích nhưng không giỏi tính toán độ dài từ')), HumanMessagePromptTemplate(prompt=PromptTemplate(input_variables=['input'], template='{input}')), MessagesPlaceholder(variable_name='agent_scratchpad')])\n",
       "| RunnableBinding(bound=ChatGroq(client=<groq.resources.chat.completions.Completions object at 0x791097a0c8d0>, async_client=<groq.resources.chat.completions.AsyncCompletions object at 0x791097903390>, model_name='llama3-70b-8192', temperature=0.1, groq_api_key=SecretStr('**********')), kwargs={'tools': [{'type': 'function', 'function': {'name': 'tavily_search_results_json', 'description': 'A search engine optimized for comprehensive, accurate, and trusted results. Useful for when you need to answer questions about current events. Input should be a search query.', 'parameters': {'type': 'object', 'properties': {'query': {'description': 'search query to look up', 'type': 'string'}}, 'required': ['query']}}}]})\n",
       "| OpenAIToolsAgentOutputParser()"
      ]
     },
     "execution_count": 26,
     "metadata": {},
     "output_type": "execute_result"
    }
   ],
   "source": [
    "agent"
   ]
  },
  {
   "cell_type": "code",
   "execution_count": 27,
   "metadata": {},
   "outputs": [
    {
     "name": "stdout",
     "output_type": "stream",
     "text": [
      "\n",
      "\n",
      "\u001b[1m> Entering new AgentExecutor chain...\u001b[0m\n",
      "\u001b[32;1m\u001b[1;3m\n",
      "Invoking: `tavily_search_results_json` with `{'query': 'How many letters in the word PHAMTRNHDUC'}`\n",
      "\n",
      "\n",
      "\u001b[0m\u001b[36;1m\u001b[1;3m[{'url': 'https://getcalc.com/statistics-letters-permutations.htm', 'content': 'Word permutations calculator to calculate how many ways are there to order the letters in a given word. In this calculation, the statistics and probability function permutation (nPr) is employed to find how many different ways can the letters of the given word be arranged. This word permutations calculator can also be called as letters ...'}, {'url': 'https://www.merriam-webster.com/wordfinder', 'content': 'Word Finder is a tool that helps you find words that match your criteria, whether you need to unscramble letters, start or end with a certain letter, or find a specific word length. You can also explore the wordplay section to learn more about the history, meaning, and usage of various words. Word Finder is the most comprehensive word search of its kind in the Merriam-Webster dictionary.'}, {'url': 'https://wordunscrambler.me/', 'content': 'Using this word helper tool, you will not only make yourself stronger\\nagainst your opponent but also learn plenty of useful words and new combinations of letters, that would enrich your\\nvocabulary as well (especially applicable to kids or learners or an enthusiast).\\n Tip : If the total no of words returned are too high, you can specify prefix or/both suffix using advanced options,\\nto get more specific words you’re looking for.\\n You can enter up to 12 letters (including two wild cards or blank tiles) and it shows you the valid words that can\\nbe made from the scrambled letters on board. Word Unscrambler is a simple online tool for unscrambling and solving scrambled words,\\noften useful in discovering top scoring words for Scrabble, Words with Friends, Wordle, Wordscapes, Wordfeud, TextTwist, Word Cookies, Anagrams etc.\\n Whether you need any help or just want to learn new words or perhaps you want to cheat a little :-), with such word games, this website will save your time and frustration often.'}, {'url': 'https://wordfind.com/word-unscramble/', 'content': \"From there, you can click on a specific word and get access to definitions,\\nword lists, or even the new words that\\ncan be made from the words that the unscramble tool can build with the one you've just found!\\n We're\\nusing a custom Scrabble dictionary\\nto quickly get you access to all the letter combinations that are possible in the English language.\\nThink about how many points you can win when you have access to anywhere from 2 to 12 letter words!\\n Depending on what game you're playing, you can also use the Scrabble Word Finder to pull back\\nnew words to help you play - including 7 letter words that can get you a 50-point bonus!\\n So if you’re tired of getting stuck on scrambled words as you play games like Scrabble and Words with Friends, you\\ncan get all the help you need right here.\\n You may just need a\\nlittle push to think up new word combinations, and you can get that with the word solver on the most challenging\\nscrambles you face.\"}, {'url': 'https://word.tips/unscramble-word-finder/', 'content': 'B. Boost Your Vocabulary\\nPlayer B is a young person playing Word A Round (a game for ages 10 and up) and they’re trying to be the first to unravel the following scrambled letters around the game card ─ LANIMA (6-letter word), ULHELPF (7-letter word) and RELSQUIR (8-letter word).\\n School Choice\\nThe Birth Of American Sign Language\\nBeneficial Video Games For Seniors\\n6 Tips and Tricks to Unscramble Words\\nThere are a number of tips and tricks that can be beneficial to unscramble words from jumbled letters. A bit of jumble solving each day helps you become a top word unscrambler!\\nBenefits of Using WordTips Word Unscramble\\nAs you can see, there are different ways that a word descrambling device can be employed. Word Unscrambler - Definition and Examples\\nWord Unscrambler helps you to find the best cheats and highest scoring words for Scrabble, Words with Friends and many other word games. Here’s what we have for you:\\nA. Win Word Games\\nPlayer A is a Scrabble participant who is baffled by how to get the highest score from the following scrambled letters on their rack ─ ERIKNRG.\\n'}]\u001b[0m\u001b[32;1m\u001b[1;3mThe word PHAMTRNHDUC has 12 letters.\u001b[0m\n",
      "\n",
      "\u001b[1m> Finished chain.\u001b[0m\n",
      "The word PHAMTRNHDUC has 12 letters.\n"
     ]
    }
   ],
   "source": [
    "from langchain.agents import AgentExecutor\n",
    "\n",
    "agent_executor = AgentExecutor(agent=agent, tools=tools, verbose=True)\n",
    "output = agent_executor.stream({\"input\": \"How many letters in the word PHAMTRNHDUC\"})\n",
    "# print(list(output))\n",
    "print(list(output)[-1]['output'])"
   ]
  },
  {
   "cell_type": "markdown",
   "metadata": {},
   "source": [
    "### **2.2 AGENT TYPE**"
   ]
  },
  {
   "cell_type": "markdown",
   "metadata": {},
   "source": [
    "#### Pandas DataFrame Agent\n",
    "\n"
   ]
  },
  {
   "cell_type": "code",
   "execution_count": null,
   "metadata": {},
   "outputs": [],
   "source": [
    "from langchain_experimental.agents.agent_toolkits import create_pandas_dataframe_agent\n",
    "from langchain.chat_models import ChatOpenAI\n",
    "from langchain.agents.agent_types import AgentType\n",
    "\n",
    "from langchain.llms import OpenAI\n",
    "import pandas as pd\n",
    "\n",
    "df = pd.read_csv(\"/home/ducpham/Documents/VSC_PYTHON/RAG-Tutorial/Module_3_Agents/sample_csv.csv\")\n",
    "\n",
    "# Using ZERO_SHOT_REACT_DESCRIPTION agent type\n",
    "agent = create_pandas_dataframe_agent(ChatGroq(temperature=0), df, verbose=True)\n",
    "\n",
    "agent.run(\"Có bao nhiêu cột trong dataframe\")"
   ]
  },
  {
   "cell_type": "code",
   "execution_count": null,
   "metadata": {},
   "outputs": [],
   "source": []
  }
 ],
 "metadata": {
  "kernelspec": {
   "display_name": "base",
   "language": "python",
   "name": "python3"
  },
  "language_info": {
   "codemirror_mode": {
    "name": "ipython",
    "version": 3
   },
   "file_extension": ".py",
   "mimetype": "text/x-python",
   "name": "python",
   "nbconvert_exporter": "python",
   "pygments_lexer": "ipython3",
   "version": "3.11.7"
  }
 },
 "nbformat": 4,
 "nbformat_minor": 2
}
