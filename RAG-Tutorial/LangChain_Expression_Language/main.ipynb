{
 "cells": [
  {
   "cell_type": "code",
   "execution_count": null,
   "metadata": {},
   "outputs": [],
   "source": []
  },
  {
   "cell_type": "markdown",
   "metadata": {},
   "source": [
    "# **1. Prompt + LLM**"
   ]
  },
  {
   "cell_type": "code",
   "execution_count": 3,
   "metadata": {},
   "outputs": [
    {
     "name": "stdout",
     "output_type": "stream",
     "text": [
      "Tôi vui lòng trình bày tổng quan về nước Nga như sau:\n",
      "\n",
      "**Vị trí địa lý**: Nga là quốc gia lớn nhất thế giới về diện tích, nằm tại phần bắc của lục địa Á-Âu. Nó giáp với 14 quốc gia, bao gồm Na Uy, Phần Lan, Estonia, Latvia, Litva, Ba Lan, Belarus, Ukraine, Gruzia, Azerbaijan, Kazakhstan, Trung Quốc, Mông Cổ và Triều Tiên.\n",
      "\n",
      "**Địa hình**: Nga có địa hình đa dạng, từ các đồng bằng rộng lớn đến các dãy núi cao, bao gồm dãy Ural, dãy Caucasus và dãy Altai. Phần lớn diện tích nước Nga là đồng bằng, với các sông lớn như Volga, Ob, Yenisei và Amur.\n",
      "\n",
      "**Khí hậu**: Nga có khí hậu ôn đới lục địa, với mùa đông lạnh và mùa hè ấm áp. Nhiệt độ trung bình trong năm thay đổi từ -50°C đến 20°C, tùy thuộc vào vùng.\n",
      "\n",
      "**Dân số và ngôn ngữ**: Nga có dân số khoảng 146 triệu người, chủ yếu là người Nga. Ngoài ra, còn có hơn 180 dân tộc thiểu số, bao gồm người Tatar, người Ukraina, người Belarus và người Kazakh. Tiếng Nga là ngôn ngữ chính thức, nhưng còn có nhiều ngôn ngữ thiểu số khác được nói.\n",
      "\n",
      "**Thủ đô và các thành phố lớn**: Thủ đô của Nga là Moscow, là thành phố lớn nhất và là trung tâm kinh tế, chính trị và văn hóa của nước này. Các thành phố lớn khác bao gồm Saint Petersburg, Novosibirsk, Yekaterinburg và Nizhny Novgorod.\n",
      "\n",
      "**Kinh tế**: Nga là một trong những nền kinh tế lớn nhất thế giới, với nguồn tài nguyên thiên nhiên phong phú, bao gồm dầu mỏ, khí đốt, than, sắt và vàng. Ngành công nghiệp chính của Nga bao gồm dầu khí, luyện kim, hóa chất và quân sự.\n",
      "\n",
      "**Văn hóa**: Nga có một nền văn hóa phong phú, với nhiều thành tựu trong lĩnh vực văn học, âm nhạc, hội họa và kiến trúc. Nước Nga là nơi sinh của nhiều danh nhân văn hóa nổi tiếng, bao gồm Tolstoy, Dostoevsky, Tchaikovsky và Rachmaninov.\n",
      "\n",
      "**Lịch sử**: Nga có một lịch sử lâu dài và phức tạp, với nhiều đế chế và chế độ đã tồn tại qua các thời kỳ, bao gồm Đế chế Nga, Liên Xô và nước Nga hiện đại. Nước Nga đã trải qua nhiều cuộc chiến tranh và xung đột, bao gồm Chiến tranh Thế giới thứ nhất và thứ hai, và các cuộc xung đột hiện nay tại Ukraine và Syria.\n",
      "\n",
      "Tôi hy vọng tổng quan này sẽ giúp bạn hiểu hơn về nước Nga!\n"
     ]
    }
   ],
   "source": [
    "from langchain.prompts import ChatPromptTemplate\n",
    "from langchain_groq import ChatGroq\n",
    "import os\n",
    "\n",
    "\n",
    "prompt = ChatPromptTemplate.from_template(\n",
    "    \"Hãy trình bày tổng qua về đát nước {foo}. Lưu ý: Bạn chỉ được phép sử dụng tiếng việt để trả lời\"\n",
    ")\n",
    "model = ChatGroq(\n",
    "    model=\"llama3-70b-8192\",\n",
    "    api_key= os.getenv(\"GROQ_API_KEY\")\n",
    ")\n",
    "\n",
    "chain = prompt | model\n",
    "\n",
    "response = chain.invoke({\"foo\": \"Nga\"})\n",
    "print(response.content)"
   ]
  },
  {
   "cell_type": "markdown",
   "metadata": {},
   "source": [
    "# **2. Prompt + LLM + OutputParser**"
   ]
  },
  {
   "cell_type": "code",
   "execution_count": 11,
   "metadata": {},
   "outputs": [
    {
     "name": "stdout",
     "output_type": "stream",
     "text": [
      "Tôi sẵn sàng!\n",
      "\n",
      "Nước Nga, tên đầy đủ là Liên bang Nga, là một quốc gia nằm tại Bắc Âu và Đông Âu. Đây là quốc gia lớn nhất thế giới về diện tích, với tổng diện tích khoảng 17,1 triệu km², chiếm khoảng 1/8 diện tích đất liền của Trái Đất.\n",
      "\n",
      "Vị trí địa lý: Nước Nga giáp với nhiều quốc gia, bao gồm Na Uy, Phần Lan, Estonia, Latvia, Litva, Belarus, Ukraine, Gruzia, Azerbaijan, Kazakhstan, Trung Quốc, Mông Cổ và Triều Tiên. Nước Nga cũng giáp với các biển Baltic, biển Trắng, biển Barents, biển Kara, biển Laptev, biển Đông Siberia và biển Okhotsk.\n",
      "\n",
      "Khí hậu: Nước Nga có khí hậu đa dạng, từ khí hậu ôn đới ở phía tây đến khí hậu cực寒 ở phía bắc và khí hậu lục địa ở phía đông. Khí hậu tại Nga được chia thành bốn mùa: xuân, hạ, thu và đông.\n",
      "\n",
      "Thành phố: Thủ đô của Nga là Moscow, thành phố lớn nhất và là trung tâm kinh tế, chính trị, văn hóa của nước này. Thành phố Saint Petersburg là thành phố lớn thứ hai của Nga và là thành phố lịch sử, văn hóa quan trọng.\n",
      "\n",
      "Kinh tế: Nước Nga là một trong những nước có kinh tế lớn nhất thế giới, với GDP khoảng 1,7 nghìn tỷ USD. Nước Nga giàu tài nguyên thiên nhiên, bao gồm dầu mỏ, khí đốt, than đá, kim loại quý và khoáng sản.\n",
      "\n",
      "Văn hóa: Nước Nga có một nền văn hóa phong phú, với nhiều thành tựu trong lĩnh vực văn học, âm nhạc, nghệ thuật, kiến trúc và điện ảnh. Nước Nga là quê hương của nhiều nhà văn, nhạc sĩ, họa sĩ và nghệ sĩ nổi tiếng thế giới.\n",
      "\n",
      "Lịch sử: Nước Nga có một lịch sử lâu dài và phức tạp, với nhiều giai đoạn quan trọng như thời kỳ Sa hoàng, Cách mạng Tháng Mười, Thế chiến II và thời kỳ Xô Viết. Hiện nay, nước Nga là một nước cộng hòa liên bang, với tổng thống Vladimir Putin là người đứng đầu.\n",
      "\n",
      "Tôi hy vọng thông tin trên đã giúp bạn có một cái nhìn tổng quan về nước Nga!\n"
     ]
    }
   ],
   "source": [
    "from langchain.schema.output_parser import StrOutputParser\n",
    "chain = prompt | model | StrOutputParser()\n",
    "\n",
    "response = chain.invoke({\"foo\": \"Nga\"})\n",
    "print(response)\n"
   ]
  },
  {
   "cell_type": "markdown",
   "metadata": {},
   "source": [
    "# **3. RAG (Retrieval-augmented Generation)**"
   ]
  },
  {
   "cell_type": "code",
   "execution_count": 5,
   "metadata": {},
   "outputs": [
    {
     "data": {
      "application/vnd.jupyter.widget-view+json": {
       "model_id": "4ad41e0db87b47d087ae57afcfd1276b",
       "version_major": 2,
       "version_minor": 0
      },
      "text/plain": [
       "Fetching 5 files:   0%|          | 0/5 [00:00<?, ?it/s]"
      ]
     },
     "metadata": {},
     "output_type": "display_data"
    },
    {
     "name": "stdout",
     "output_type": "stream",
     "text": [
      "Tên đầy đủ của nước Nga là Liên bang Nga.\n"
     ]
    }
   ],
   "source": [
    "from operator import itemgetter\n",
    "\n",
    "from langchain.prompts import ChatPromptTemplate\n",
    "from langchain.chat_models import ChatOpenAI\n",
    "from langchain.embeddings import FastEmbedEmbeddings\n",
    "from langchain.schema.output_parser import StrOutputParser\n",
    "from langchain.schema.runnable import RunnablePassthrough, RunnableLambda\n",
    "from langchain.vectorstores import FAISS\n",
    "\n",
    "embedding_model = FastEmbedEmbeddings(model_name=\"BAAI/bge-small-en-v1.5\")\n",
    "\n",
    "# Create a vector store and retriever\n",
    "vectorstore = FAISS.from_texts(\n",
    "    [\"Nước Nga, tên đầy đủ là Liên bang Nga, là một quốc gia nằm tại Bắc Âu và Đông Âu.\",\n",
    "     \" Đây là quốc gia lớn nhất thế giới về diện tích, với tổng diện tích khoảng 17,1 triệu km², chiếm khoảng 1/8 diện tích đất liền của Trái Đất.\",\n",
    "     \"Thủ đô của Nga là Moscow, thành phố lớn nhất và là trung tâm kinh tế, chính trị, văn hóa của nước này.\"], embedding=embedding_model\n",
    ")\n",
    "retriever = vectorstore.as_retriever()\n",
    "\n",
    "# Define templates for prompts\n",
    "template = \"\"\"Trả lời câu hỏi dự vào thông tin context bên dưới:\n",
    "{context}\n",
    "Lưu ý: bạn chỉ được trả lời bằng tiếng việt.\n",
    "Question: {question}\n",
    "\"\"\"\n",
    "prompt = ChatPromptTemplate.from_template(template)\n",
    "\n",
    "model = ChatGroq(\n",
    "    model=\"llama3-70b-8192\",\n",
    "    api_key= os.getenv(\"GROQ_API_KEY\")\n",
    ")\n",
    "\n",
    "# Create a retrieval-augmented generation chain\n",
    "chain = (\n",
    "    {\"context\": retriever, \"question\": RunnablePassthrough()}\n",
    "    | prompt\n",
    "    | model\n",
    "    | StrOutputParser()\n",
    ")\n",
    "\n",
    "result = chain.invoke(\"tên đầy đủ của nước Nga là gì ?\")\n",
    "\n",
    "print(result)"
   ]
  },
  {
   "cell_type": "markdown",
   "metadata": {},
   "source": [
    "# **4. Multiple Chains**"
   ]
  },
  {
   "cell_type": "code",
   "execution_count": 18,
   "metadata": {},
   "outputs": [
    {
     "name": "stdout",
     "output_type": "stream",
     "text": [
      "Hồ Chí Minh đến từ Việt Nam.\n"
     ]
    }
   ],
   "source": [
    "from operator import itemgetter\n",
    "\n",
    "from langchain.chat_models import ChatOpenAI\n",
    "from langchain.prompts import ChatPromptTemplate\n",
    "from langchain.schema import StrOutputParser\n",
    "\n",
    "prompt1 = ChatPromptTemplate.from_template(\"{person} đến từ thành phó nào?\")\n",
    "prompt2 = ChatPromptTemplate.from_template(\n",
    "    \"{city} ở nước nào? Trả lời câu hỏi bằng {language}\"\n",
    ")\n",
    "\n",
    "model = ChatGroq(\n",
    "    model=\"llama3-70b-8192\",\n",
    "    api_key= os.getenv(\"GROQ_API_KEY\")\n",
    ")\n",
    "\n",
    "chain1 = prompt1 | model | StrOutputParser()\n",
    "\n",
    "chain2 = (\n",
    "    {\"city\": chain1, \"language\": itemgetter(\"language\")}\n",
    "    | prompt2\n",
    "    | model\n",
    "    | StrOutputParser()\n",
    ")\n",
    "\n",
    "result = chain2.invoke({\"person\": \"Hồ Chí Minh\", \"language\": \"Việt Nam\"})\n",
    "print(result)"
   ]
  },
  {
   "cell_type": "markdown",
   "metadata": {},
   "source": [
    "## **5. Branching and Merging**"
   ]
  },
  {
   "cell_type": "code",
   "execution_count": 23,
   "metadata": {},
   "outputs": [
    {
     "name": "stdout",
     "output_type": "stream",
     "text": [
      "Here is a rewritten version of the text that combines the pros and cons into a single, cohesive piece:\n",
      "\n",
      "**Mô hình ngôn ngữ lớn: Xu hướng và tiềm năng trong tương lai**\n",
      "\n",
      "Các mô hình ngôn ngữ lớn đã trở thành một xu hướng và tiềm năng to lớn trong tương lai. Chúng có thể được sử dụng để phát triển các hệ thống và ứng dụng hiệu quả, giúp các doanh nghiệp và tổ chức có thể giao tiếp và hoạt động một cách hiệu quả hơn.\n",
      "\n",
      "**Ưu điểm của mô hình ngôn ngữ lớn**\n",
      "\n",
      "Các mô hình ngôn ngữ lớn có nhiều lợi ích và tiềm năng to lớn. Chúng có thể được sử dụng để phát triển các hệ thống giáo dục trực tuyến, giúp các học sinh và sinh viên có thể học tập một cách hiệu quả và tiện lợi hơn. Chúng cũng có thể được sử dụng để phát triển các hệ thống chăm sóc sức khỏe, giúp các bác sĩ và nhân viên y tế có thể chẩn đoán và điều trị bệnh một cách hiệu quả hơn. Ngoài ra, chúng có thể được sử dụng để phát triển các hệ thống an ninh, giúp các cơ quan chức năng có thể phát hiện và phòng chống tội phạm một cách hiệu quả hơn.\n",
      "\n",
      "**Tiềm năng của mô hình ngôn ngữ lớn**\n",
      "\n",
      "Các mô hình ngôn ngữ lớn cũng có thể được sử dụng để phát triển các hệ thống giao tiếp tự động, giúp các doanh nghiệp và tổ chức có thể giao tiếp với khách hàng trên toàn thế giới. Chúng cũng có thể được sử dụng để phát triển các hệ thống dịch thuật tự động, giúp các doanh nghiệp và tổ chức có thể giao tiếp với khách hàng trên toàn thế giới.\n",
      "\n",
      "**Nhược điểm của mô hình ngôn ngữ lớn**\n",
      "\n",
      "Mặc dù các mô hình ngôn ngữ lớn có nhiều lợi ích và tiềm năng to lớn, nhưng chúng cũng có một số thách thức và hạn chế. Các mô hình ngôn ngữ lớn đòi hỏi một lượng lớn dữ liệu và tài nguyên để đào tạo và phát triển, điều này có thể gây ra khó khăn và tốn kém. Chúng cũng có thể gặp phải vấn đề về độ chính xác và tin cậy, đặc biệt là trong các trường hợp đặc biệt và phức tạp. Ngoài ra, chúng có thể được sử dụng để phát triển các hệ thống có hại và gây ảnh hưởng xấu đến xã hội.\n",
      "\n",
      "**Kết luận**\n",
      "\n",
      "Tóm lại, các mô hình ngôn ngữ lớn là một xu hướng và tiềm năng to lớn trong tương lai. Chúng có thể được sử dụng để phát triển các hệ thống và ứng dụng hiệu quả, giúp các doanh nghiệp và tổ chức có thể giao tiếp và hoạt động một cách hiệu quả hơn. Tuy nhiên, chúng cũng có một số thách thức và hạn chế, và cần phải được phát triển và sử dụng một cách có trách nhiệm và đạo đức.\n"
     ]
    }
   ],
   "source": [
    "from operator import itemgetter\n",
    "\n",
    "from langchain.prompts import ChatPromptTemplate\n",
    "from langchain.schema import StrOutputParser\n",
    "\n",
    "model = ChatGroq(\n",
    "    model=\"llama3-70b-8192\",\n",
    "    api_key= os.getenv(\"GROQ_API_KEY\")\n",
    ")\n",
    "\n",
    "planner = (\n",
    "    ChatPromptTemplate.from_template(\"Tạo lập luận về: {input}. Lưu ý: bạn chỉ được sử dụng tiếng việt \")\n",
    "    | model\n",
    "    | StrOutputParser()\n",
    "    | {\"base_response\": RunnablePassthrough()}\n",
    ")\n",
    "\n",
    "arguments_for = (\n",
    "    ChatPromptTemplate.from_template(\n",
    "        \"Liệt kê những ưu điểm hoặc khía cạnh tích cực của {base_response}. Lưu ý: bạn chỉ được sử dụng tiếng việt\"\n",
    "    )\n",
    "    | model\n",
    "    | StrOutputParser()\n",
    ")\n",
    "arguments_against = (\n",
    "    ChatPromptTemplate.from_template(\n",
    "        \"Liệt kê những nhược điểm hoặc khía cạnh tiêu cực của {base_response}. Lưu ý: bạn chỉ được sử dụng tiếng việt\"\n",
    "    )\n",
    "    | model\n",
    "    | StrOutputParser()\n",
    ")\n",
    "\n",
    "final_responder = (\n",
    "    ChatPromptTemplate.from_messages(\n",
    "        [\n",
    "            (\"ai\", \"{original_response}\"),\n",
    "            (\"human\", \"Pros:\\n{results_1}\\n\\nCons:\\n{results_2}\"),\n",
    "            (\"system\", \"Tạo phản hồi cuối cùng dựa trên lời phê bình\"),\n",
    "        ]\n",
    "    )\n",
    "    | model\n",
    "    | StrOutputParser()\n",
    ")\n",
    "\n",
    "chain = (\n",
    "    planner\n",
    "    | {\n",
    "        \"results_1\": arguments_for,\n",
    "        \"results_2\": arguments_against,\n",
    "        \"original_response\": itemgetter(\"base_response\"),\n",
    "    }\n",
    "    | final_responder\n",
    ")\n",
    "\n",
    "result = chain.invoke({\"input\": \"mô hình ngôn ngữ lớn\"})\n",
    "print(result)"
   ]
  },
  {
   "cell_type": "markdown",
   "metadata": {},
   "source": [
    "# **6. Adding Memory to a Chain**"
   ]
  },
  {
   "cell_type": "code",
   "execution_count": 7,
   "metadata": {},
   "outputs": [
    {
     "name": "stdout",
     "output_type": "stream",
     "text": [
      "\n",
      "\n",
      "\u001b[1m> Entering new LLMChain chain...\u001b[0m\n",
      "Prompt after formatting:\n",
      "\u001b[32;1m\u001b[1;3mSystem: Bạn là một chatbot hữu ích đang trò chuyện với con người. Lưu ý: bạn chỉ được sử dụng tiếng việt để trò chuyện\n",
      "Human: Việt Nam có bao nhiêu dân tộc ?\u001b[0m\n",
      "\n",
      "\u001b[1m> Finished chain.\u001b[0m\n",
      "Xin chào! Việt Nam là một đất nước đa dân tộc, với tổng cộng 54 dân tộc anh em. Trong đó, dân tộc Kinh chiếm đa số, khoảng 85,3% dân số, và 53 dân tộc thiểu số khác. Mỗi dân tộc đều có ngôn ngữ, văn hóa, truyền thống và phong tục riêng, góp phần vào sự đa dạng và giàu có của văn hóa Việt Nam.\n"
     ]
    }
   ],
   "source": [
    "from langchain.schema import SystemMessage\n",
    "from langchain.memory import ConversationBufferMemory\n",
    "from langchain.chains import LLMChain\n",
    "from langchain.prompts import (\n",
    "    ChatPromptTemplate,\n",
    "    HumanMessagePromptTemplate,\n",
    "    MessagesPlaceholder\n",
    ")\n",
    "from langchain_groq import ChatGroq\n",
    "from langchain.chains import LLMChain\n",
    "import os\n",
    "\n",
    "# Create a ChatPromptTemplate\n",
    "prompt = ChatPromptTemplate.from_messages(\n",
    "    [\n",
    "        SystemMessage(\n",
    "            content=\"Bạn là một chatbot hữu ích đang trò chuyện với con người. Lưu ý: bạn chỉ được sử dụng tiếng việt để trò chuyện\"\n",
    "        ),  # The persistent system prompt\n",
    "        MessagesPlaceholder(\n",
    "            variable_name=\"chat_history\"\n",
    "        ),  # Where the memory will be stored.\n",
    "        HumanMessagePromptTemplate.from_template(\n",
    "            \"{human_input}\"\n",
    "        ),  # Where the human input will be injected\n",
    "    ]\n",
    ")\n",
    "\n",
    "llm = ChatGroq(\n",
    "    model=\"llama3-70b-8192\",\n",
    "    api_key= os.getenv(\"GROQ_API_KEY\")\n",
    ")\n",
    "\n",
    "memory = ConversationBufferMemory(memory_key=\"chat_history\", return_messages=True)\n",
    "\n",
    "chain = LLMChain(\n",
    "    llm=llm, \n",
    "    prompt=prompt,\n",
    "    verbose=True,\n",
    "    memory=memory\n",
    ")\n",
    "\n",
    "response = chain.predict(human_input=\"Việt Nam có bao nhiêu dân tộc ?\")\n",
    "print(response)"
   ]
  },
  {
   "cell_type": "code",
   "execution_count": 36,
   "metadata": {},
   "outputs": [
    {
     "name": "stdout",
     "output_type": "stream",
     "text": [
      "\n",
      "\n",
      "\u001b[1m> Entering new LLMChain chain...\u001b[0m\n",
      "Prompt after formatting:\n",
      "\u001b[32;1m\u001b[1;3mSystem: Bạn là một chatbot hữu ích đang trò chuyện với con người. Lưu ý: bạn chỉ được sử dụng tiếng việt để trò chuyện\n",
      "Human: Việt Nam có bao nhiêu dân tộc ?\n",
      "AI: Xin chào! Việt Nam chúng ta có 54 dân tộc anh em, mỗi dân tộc có nét văn hóa, truyền thống và ngôn ngữ riêng. Đó là một sự đa dạng và phong phú về văn hóa của Việt Nam.\n",
      "Human: Tôi vừa hỏi bạn điều gì ?\u001b[0m\n",
      "\n",
      "\u001b[1m> Finished chain.\u001b[0m\n",
      "Bạn vừa hỏi tôi \"Việt Nam có bao nhiêu dân tộc?\"\n"
     ]
    }
   ],
   "source": [
    "response = chain.predict(human_input=\"Tôi vừa hỏi bạn điều gì ?\")\n",
    "print(response)"
   ]
  },
  {
   "cell_type": "markdown",
   "metadata": {},
   "source": [
    "# **7. Routing by Semantic Similarity**"
   ]
  },
  {
   "cell_type": "code",
   "execution_count": 43,
   "metadata": {},
   "outputs": [
    {
     "data": {
      "application/vnd.jupyter.widget-view+json": {
       "model_id": "2b1420fe124e4bb6ad5e1dbd5f9c08cf",
       "version_major": 2,
       "version_minor": 0
      },
      "text/plain": [
       "Fetching 5 files:   0%|          | 0/5 [00:00<?, ?it/s]"
      ]
     },
     "metadata": {},
     "output_type": "display_data"
    },
    {
     "name": "stdout",
     "output_type": "stream",
     "text": [
      "Using PROGRAM\n",
      "Lỗ đen là một vùng trong không gian, nơi trọng lực quá mạnh đến mức không có gì, kể cả ánh sáng, có thể thoát ra được. Nó được hình thành khi một ngôi sao lớn bị sụp đổ và mật độ của nó tăng lên đến mức cực kỳ cao. Lỗ đen có một ranh giới gọi là chân trời sự kiện, bất cứ vật gì vượt qua ranh giới này đều sẽ bị hút vào lỗ đen và không thể thoát ra được. Lỗ đen là một trong những hiện tượng kỳ lạ và phức tạp nhất trong vũ trụ.\n",
      "Using PROGRAM\n",
      "Tôi xin lỗi, nhưng tôi là giáo sư vật lý, không phải là giáo sư tin học. Tôi không có chuyên môn về ngôn ngữ lập trình Java. Tôi không biết câu trả lời cho câu hỏi này. Java là một ngôn ngữ lập trình thuộc về lĩnh vực công nghệ thông tin, không thuộc về vật lý. Tôi chỉ có thể trả lời các câu hỏi về vật lý, không phải về lập trình.\n"
     ]
    }
   ],
   "source": [
    "from langchain.chat_models import ChatOpenAI\n",
    "from langchain.embeddings import OpenAIEmbeddings\n",
    "from langchain.prompts import PromptTemplate\n",
    "from langchain.schema.output_parser import StrOutputParser\n",
    "from langchain.schema.runnable import RunnableLambda, RunnablePassthrough\n",
    "from langchain.utils.math import cosine_similarity\n",
    "\n",
    "physics_template = \"\"\"Bạn là một giáo sư vật lý rất thông minh. \\ \n",
    "Bạn rất giỏi trả lời các câu hỏi về vật lý một cách ngắn gọn và dễ hiểu. \\ \n",
    "Khi bạn không biết câu trả lời cho một câu hỏi, bạn thừa nhận rằng bạn không biết\n",
    "Lưu ý: bạn chỉ được sử dụng tiếng việt để trò chuyện\n",
    "Here is a question:\n",
    "{query}\"\"\"\n",
    "\n",
    "math_template = \"\"\"Bạn là một nhà toán học rất giỏi. Bạn rất giỏi trả lời các câu hỏi toán học. \\ \n",
    "Bạn thật giỏi vì bạn có thể chia nhỏ các vấn đề khó khăn thành các phần cấu thành của chúng, \\ \n",
    "trả lời các phần cấu thành và sau đó ghép chúng lại với nhau để trả lời câu hỏi rộng hơn.\n",
    "Lưu ý: bạn chỉ được sử dụng tiếng việt để trò chuyện\n",
    "Here is a question:\n",
    "{query}\"\"\"\n",
    "\n",
    "embedding_model = FastEmbedEmbeddings(model_name=\"BAAI/bge-small-en-v1.5\")\n",
    "\n",
    "prompt_templates = [physics_template, math_template]\n",
    "prompt_embeddings = embedding_model.embed_documents(prompt_templates)\n",
    "\n",
    "def prompt_router(input):\n",
    "    query_embedding = embedding_model.embed_query(input[\"query\"])\n",
    "    similarity = cosine_similarity([query_embedding], prompt_embeddings)[0]\n",
    "    most_similar = prompt_templates[similarity.argmax()]\n",
    "    print(\"Using MATH\" if most_similar == math_template else \"Using PROGRAM\")\n",
    "    return PromptTemplate.from_template(most_similar)\n",
    "\n",
    "chain = (\n",
    "    {\"query\": RunnablePassthrough()}\n",
    "    | RunnableLambda(prompt_router)\n",
    "    | llm\n",
    "    | StrOutputParser()\n",
    ")\n",
    "\n",
    "print(chain.invoke({\"query\": \"Lỗ đen là gì?\"}))\n",
    "print(chain.invoke({\"query\": \"Ngôn ngữ lập trình Java để làm gì?\"}))"
   ]
  },
  {
   "cell_type": "code",
   "execution_count": null,
   "metadata": {},
   "outputs": [],
   "source": []
  }
 ],
 "metadata": {
  "kernelspec": {
   "display_name": "base",
   "language": "python",
   "name": "python3"
  },
  "language_info": {
   "codemirror_mode": {
    "name": "ipython",
    "version": 3
   },
   "file_extension": ".py",
   "mimetype": "text/x-python",
   "name": "python",
   "nbconvert_exporter": "python",
   "pygments_lexer": "ipython3",
   "version": "3.11.7"
  }
 },
 "nbformat": 4,
 "nbformat_minor": 2
}
