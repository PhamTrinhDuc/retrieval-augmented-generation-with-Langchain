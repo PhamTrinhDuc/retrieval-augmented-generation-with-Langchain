{
 "cells": [
  {
   "cell_type": "code",
   "execution_count": null,
   "metadata": {},
   "outputs": [],
   "source": []
  },
  {
   "cell_type": "markdown",
   "metadata": {},
   "source": [
    "## **1. Combine các thành phần thông qua '|'**"
   ]
  },
  {
   "cell_type": "code",
   "execution_count": 10,
   "metadata": {},
   "outputs": [
    {
     "name": "stdout",
     "output_type": "stream",
     "text": [
      "Thế chiến thứ 2 diễn ra trong hoàn cảnh sau:\n",
      "\n",
      "Sau Thế chiến thứ nhất, Đức dưới sự lãnh đạo của Đảng Quốc xã do Adolf Hitler đứng đầu đã trở thành nước mạnh nhất châu Âu. Họ có tham vọng lớn, muốn trở thành cường quốc số một trên thế giới.\n",
      "\n",
      "Trong khi đó, Ý dưới sự lãnh đạo của Benito Mussolini cũng đang thực hiện chính sách bành trướng, muốn trở thành cường quốc Địa Trung Hải.\n",
      "\n",
      "Nhật Bản, một nước Đông Á, cũng đang thực hiện chính sách bành trướng, muốn trở thành cường quốc Đông Á.\n",
      "\n",
      "Các nước Tây Âu, đặc biệt là Anh và Pháp, đang trong tình trạng suy yếu sau Thế chiến thứ nhất, không có đủ sức mạnh để ngăn cản các nước phe trục (Đức, Ý, Nhật Bản) thực hiện các hoạt động bành trướng.\n",
      "\n",
      "Vào năm 1939, Đức dưới sự lãnh đạo của Hitler đã xâm lược Ba Lan, khiến Anh và Pháp tuyên chiến với Đức. Đến năm 1941, Đức đã tấn công Liên Xô, và Nhật Bản đã tấn công Trân Châu Cảng, khiến Hoa Kỳ tham gia chiến tranh.\n",
      "\n",
      "Thế chiến thứ 2 đã diễn ra trong hoàn cảnh như vậy, là một cuộc chiến tranh toàn cầu giữa hai phe: phe Đồng Minh (Anh, Pháp, Hoa Kỳ, Liên Xô) và phe Trục (Đức, Ý, Nhật Bản). Cuộc chiến tranh này đã kéo dài từ năm 1939 đến năm 1945, và đã gây ra thiệt hại nặng nề cho nhân loại."
     ]
    }
   ],
   "source": [
    "from langchain.prompts import ChatPromptTemplate\n",
    "from langchain.schema import StrOutputParser\n",
    "from langchain_groq import ChatGroq\n",
    "import os\n",
    "\n",
    "chat = ChatGroq(\n",
    "    model=\"llama3-70b-8192\",\n",
    "    api_key= os.getenv(\"GROQ_API_KEY\")\n",
    ")\n",
    "\n",
    "prompt = ChatPromptTemplate.from_messages(\n",
    "    [\n",
    "        (\"system\", \"Bạn là 1 chat bot hữu ích. Bạn là người am hiểu về  kiến thức lịch s. Lưu ý: bạn chỉ được sử dụng tiếng việt để trả lời\"),\n",
    "        (\"user\", \"{input}\")\n",
    "    ]\n",
    ")\n",
    "\n",
    "chain = prompt | chat | StrOutputParser()\n",
    "response = chain.stream({\"input\": \"Thế chiến thứ 2 diễn ra trong hoàn cảnh nào ?\"})\n",
    "for chuck in response:\n",
    "    print(chuck, end=\"\", flush=True)"
   ]
  },
  {
   "cell_type": "markdown",
   "metadata": {},
   "source": [
    "## **2. Sử dụng LLMChain**"
   ]
  },
  {
   "cell_type": "code",
   "execution_count": 11,
   "metadata": {},
   "outputs": [
    {
     "name": "stdout",
     "output_type": "stream",
     "text": [
      "Thế chiến thứ 2 diễn ra trong hoàn cảnh của sự bất ổn và khủng hoảng toàn cầu sau Thế chiến thứ nhất. Sau chiến tranh, các nước thắng trận đã áp đặt những điều kiện khắc nghiệt lên Đức qua Hiệp ước Versailles, khiến nước này lâm vào khủng hoảng kinh tế và chính trị.\n",
      "\n",
      "Trong những năm 1920 và 1930, Đức dần dần phục hồi và trở thành một cường quốc dưới sự lãnh đạo của Adolf Hitler và đảng Quốc xã. Hitler đã hứa với người dân Đức rằng ông sẽ khôi phục lại uy tín và sức mạnh của nước Đức, và nhiều người Đức đã ủng hộ ông.\n",
      "\n",
      "Đồng thời, Ý dưới sự lãnh đạo của Benito Mussolini và Nhật Bản dưới sự lãnh đạo của Hideki Tojo cũng đang phát triển chủ nghĩa dân tộc và chủ nghĩa quân phiệt. Ba nước này đã hình thành phe Trục và bắt đầu thực hiện các chính sách bành trướng và xâm lược.\n",
      "\n",
      "Các nước khác, bao gồm Pháp, Anh và Liên Xô, đã không thể ngăn chặn được sự trỗi dậy của phe Trục và đã thực hiện chính sách Appeasement (nhượng bộ) để tránh xung đột. Tuy nhiên, chính sách này đã thất bại và phe Trục đã tiếp tục mở rộng lãnh thổ.\n",
      "\n",
      "Cuối cùng, vào ngày 1 tháng 9 năm 1939, Đức đã xâm lược Ba Lan, và Anh và Pháp đã tuyên chiến với Đức, đánh dấu sự bắt đầu của Thế chiến thứ 2.\n"
     ]
    }
   ],
   "source": [
    "from langchain.chains import LLMChain\n",
    "\n",
    "chain = LLMChain(llm=chat, prompt=prompt, output_parser=StrOutputParser())\n",
    "response = chain.run(input=\"Thế chiến thứ 2 diễn ra trong hoàn cảnh nào ?\")\n",
    "print(response)"
   ]
  },
  {
   "cell_type": "markdown",
   "metadata": {},
   "source": [
    "## **3. Sử dụng ConversationChain**"
   ]
  },
  {
   "cell_type": "code",
   "execution_count": 15,
   "metadata": {},
   "outputs": [
    {
     "name": "stdout",
     "output_type": "stream",
     "text": [
      "\n",
      "\n",
      "\u001b[1m> Entering new ConversationChain chain...\u001b[0m\n",
      "Prompt after formatting:\n",
      "\u001b[32;1m\u001b[1;3m\n",
      "Bạn là 1 chat bot hữu ích. Bạn là người am hiểu về  kiến thức lịch s. Lưu ý: bạn chỉ được sử dụng tiếng việt để trả lời.\n",
      "Current conversation: \n",
      "\n",
      "Human: Thế chiến thứ 2 diễn ra trong hoàn cảnh nào ?\n",
      "AI Assistant:\n",
      "\u001b[0m\n",
      "\n",
      "\u001b[1m> Finished chain.\u001b[0m\n"
     ]
    },
    {
     "data": {
      "text/plain": [
       "'Thế chiến thứ 2 diễn ra trong hoàn cảnh của cuộc khủng hoảng kinh tế toàn cầu, hệ quả của cuộc Đại Suy thoái (1929-1939) và sự trỗi dậy của các chế độ phát xít và quân phiệt trên thế giới.\\n\\nSau Thế chiến thứ nhất, Hiệp ước Versailles (1919) đã đặt ra các điều khoản nặng nề đối với Đức, khiến nước này phải gánh chịu trách nhiệm về chiến tranh và bồi thường chiến phí. Tuy nhiên, điều này đã dẫn đến sự bất mãn và oán hận trong dân chúng Đức, tạo điều kiện cho Adolf Hitler và Đảng Quốc xã lên nắm quyền.\\n\\nTrong khi đó, Ý dưới sự lãnh đạo của Benito Mussolini cũng theo đuổi chủ nghĩa phát xít và mở rộng lãnh thổ. Nhật Bản dưới sự lãnh đạo của Hideki Tojo lại theo đuổi chủ nghĩa quân phiệt và mở rộng lãnh thổ ở Đông Á.\\n\\nTại châu Âu, sự trỗi dậy của Đức và Ý đã dẫn đến sự hình thành các liên minh quân sự và các thỏa thuận không xâm lược giữa các nước. Tuy nhiên, Hitler đã phá vỡ các thỏa thuận này và xâm lược các nước láng giềng, khiến chiến tranh bùng nổ.\\n\\nTóm lại, Thế chiến thứ 2 diễn ra trong hoàn cảnh của cuộc khủng hoảng kinh tế toàn cầu, sự trỗi dậy của các chế độ phát xít và quân phiệt, và sự bất ổn định chính trị trên thế giới.'"
      ]
     },
     "execution_count": 15,
     "metadata": {},
     "output_type": "execute_result"
    }
   ],
   "source": [
    "from langchain.chains import ConversationChain\n",
    "from langchain.memory import ConversationBufferMemory\n",
    "from langchain.prompts import PromptTemplate\n",
    "\n",
    "\n",
    "template = \"\"\"\n",
    "Bạn là 1 chat bot hữu ích. Bạn là người am hiểu về  kiến thức lịch sử. Lưu ý: bạn chỉ được sử dụng tiếng việt để trả lời.\n",
    "Current conversation: \n",
    "{history}\n",
    "Human: {input}\n",
    "AI Assistant:\n",
    "\"\"\"\n",
    "PROMPT = PromptTemplate(input_variables=[\"history\", \"input\"], template=template)\n",
    "\n",
    "conversation = ConversationChain(prompt=PROMPT,\n",
    "                                 llm=chat,\n",
    "                                 memory=ConversationBufferMemory(ai_prefix=\"AI Assistant\"),\n",
    "                                 verbose=True)\n",
    "\n",
    "conversation.run(input = \"Thế chiến thứ 2 diễn ra trong hoàn cảnh nào ?\")"
   ]
  },
  {
   "cell_type": "code",
   "execution_count": 16,
   "metadata": {},
   "outputs": [
    {
     "name": "stdout",
     "output_type": "stream",
     "text": [
      "\n",
      "\n",
      "\u001b[1m> Entering new ConversationChain chain...\u001b[0m\n",
      "Prompt after formatting:\n",
      "\u001b[32;1m\u001b[1;3m\n",
      "Bạn là 1 chat bot hữu ích. Bạn là người am hiểu về  kiến thức lịch s. Lưu ý: bạn chỉ được sử dụng tiếng việt để trả lời.\n",
      "Current conversation: \n",
      "Human: Thế chiến thứ 2 diễn ra trong hoàn cảnh nào ?\n",
      "AI Assistant: Thế chiến thứ 2 diễn ra trong hoàn cảnh của cuộc khủng hoảng kinh tế toàn cầu, hệ quả của cuộc Đại Suy thoái (1929-1939) và sự trỗi dậy của các chế độ phát xít và quân phiệt trên thế giới.\n",
      "\n",
      "Sau Thế chiến thứ nhất, Hiệp ước Versailles (1919) đã đặt ra các điều khoản nặng nề đối với Đức, khiến nước này phải gánh chịu trách nhiệm về chiến tranh và bồi thường chiến phí. Tuy nhiên, điều này đã dẫn đến sự bất mãn và oán hận trong dân chúng Đức, tạo điều kiện cho Adolf Hitler và Đảng Quốc xã lên nắm quyền.\n",
      "\n",
      "Trong khi đó, Ý dưới sự lãnh đạo của Benito Mussolini cũng theo đuổi chủ nghĩa phát xít và mở rộng lãnh thổ. Nhật Bản dưới sự lãnh đạo của Hideki Tojo lại theo đuổi chủ nghĩa quân phiệt và mở rộng lãnh thổ ở Đông Á.\n",
      "\n",
      "Tại châu Âu, sự trỗi dậy của Đức và Ý đã dẫn đến sự hình thành các liên minh quân sự và các thỏa thuận không xâm lược giữa các nước. Tuy nhiên, Hitler đã phá vỡ các thỏa thuận này và xâm lược các nước láng giềng, khiến chiến tranh bùng nổ.\n",
      "\n",
      "Tóm lại, Thế chiến thứ 2 diễn ra trong hoàn cảnh của cuộc khủng hoảng kinh tế toàn cầu, sự trỗi dậy của các chế độ phát xít và quân phiệt, và sự bất ổn định chính trị trên thế giới.\n",
      "Human: Vậy nó kết thúc khi nào ?\n",
      "AI Assistant:\n",
      "\u001b[0m\n",
      "\n",
      "\u001b[1m> Finished chain.\u001b[0m\n"
     ]
    },
    {
     "data": {
      "text/plain": [
       "'Thế chiến thứ 2 kết thúc vào ngày 2 tháng 9 năm 1945, khi Nhật Bản chính thức đầu hàng vô điều kiện các lực lượng Đồng Minh trên tàu USS Missouri tại vịnh Tokyo, Nhật Bản. Tuy nhiên, chiến tranh đã chấm dứt trên thực tế vào ngày 8 tháng 5 năm 1945, khi Đức dưới sự lãnh đạo của Adolf Hitler đầu hàng vô điều kiện các lực lượng Đồng Minh tại Reims, Pháp.\\n\\nTrước đó, vào ngày 30 tháng 4 năm 1945, Adolf Hitler đã tự tử trong bunker của mình tại Berlin, Đức, và Joseph Goebbels đã tiếp quản chức vụ chỉ huy. Tuy nhiên, Goebbels cũng đã tự tử vào ngày 1 tháng 5 năm 1945, và Karl Dönitz đã trở thành người đứng đầu Đức.\\n\\nSau khi Đức đầu hàng, chiến tranh tại châu Âu đã chấm dứt, và các lực lượng Đồng Minh đã tập trung vào chiến đấu chống lại Nhật Bản. Vào ngày 6 và 9 tháng 8 năm 1945, Hoa Kỳ đã thả bom nguyên tử xuống Hiroshima và Nagasaki, Nhật Bản, khiến Nhật Bản phải đầu hàng vô điều kiện.\\n\\nCuối cùng, vào ngày 2 tháng 9 năm 1945, Nhật Bản đã chính thức ký văn kiện đầu hàng trên tàu USS Missouri, và Thế chiến thứ 2 đã chính thức chấm dứt.'"
      ]
     },
     "execution_count": 16,
     "metadata": {},
     "output_type": "execute_result"
    }
   ],
   "source": [
    "conversation.run(\"Vậy nó kết thúc khi nào ?\")"
   ]
  },
  {
   "cell_type": "markdown",
   "metadata": {},
   "source": [
    "## **4. Thêm 1 số thành phần vào chain**"
   ]
  },
  {
   "cell_type": "markdown",
   "metadata": {},
   "source": [
    "### **4.1 combine thêm Basemode từ Pydantic**"
   ]
  },
  {
   "cell_type": "code",
   "execution_count": 18,
   "metadata": {},
   "outputs": [
    {
     "data": {
      "text/plain": [
       "Person(name='Sally', age=20, fav_food='bánh mì')"
      ]
     },
     "execution_count": 18,
     "metadata": {},
     "output_type": "execute_result"
    }
   ],
   "source": [
    "from langchain.pydantic_v1 import BaseModel, Field\n",
    "from langchain.chains.openai_functions import create_structured_output_runnable\n",
    "from langchain_groq import ChatGroq\n",
    "from langchain.prompts import ChatPromptTemplate\n",
    "from typing import Optional\n",
    "\n",
    "\n",
    "class Person(BaseModel):\n",
    "    name: str = Field(..., description=\"The person's name\")\n",
    "    age: int = Field(...,  description=\"The person's age\")\n",
    "    fav_food: Optional[str]  = Field(None, description=\"The person's favorite food\")\n",
    "\n",
    "llm = ChatGroq(\n",
    "    model=\"llama3-70b-8192\",\n",
    "    api_key= os.getenv(\"GROQ_API_KEY\")\n",
    ")\n",
    "prompt = ChatPromptTemplate.from_messages(\n",
    "    [\n",
    "        (\"system\", \"Bạn là 1 chat bot hữu ích. Lưu ý: bạn chỉ được sử dụng tiếng việt để trả lời\"),\n",
    "        (\"user\", \"{input}\")\n",
    "    ]\n",
    ")\n",
    "\n",
    "chain = create_structured_output_runnable(Person, llm=llm, prompt=prompt)\n",
    "chain.invoke({\"input\": \"Sally 20 tuổi và cô ấy rất thích ăn bánh mì\"})"
   ]
  },
  {
   "cell_type": "markdown",
   "metadata": {},
   "source": [
    "### **4.2 Chỉ địng các thuộc tính dự kiến**"
   ]
  },
  {
   "cell_type": "code",
   "execution_count": 20,
   "metadata": {},
   "outputs": [
    {
     "data": {
      "text/plain": [
       "{'input': 'Điều này thật bất ngờ !!',\n",
       " 'text': {'aggressiveness': 0, 'language': 'vi', 'sentiment': 'neutral'}}"
      ]
     },
     "execution_count": 20,
     "metadata": {},
     "output_type": "execute_result"
    }
   ],
   "source": [
    "from langchain.chains import create_tagging_chain, create_extraction_chain_pydantic\n",
    "from langchain.prompts import ChatPromptTemplate\n",
    "from langchain_groq import ChatGroq\n",
    "\n",
    "schema = {\n",
    "    \"properties\": {\n",
    "        \"sentiment\": {\"type\": \"string\"},\n",
    "        \"aggressiveness\": {\"type\": \"integer\"},\n",
    "        \"language\": {\"type\": \"string\"},\n",
    "    }\n",
    "}\n",
    "\n",
    "\n",
    "llm = ChatGroq(\n",
    "    model=\"llama3-70b-8192\",\n",
    "    api_key= os.getenv(\"GROQ_API_KEY\")\n",
    ")\n",
    "\n",
    "chain = create_tagging_chain(schema, llm)\n",
    "chain.invoke(\"Điều này thật bất ngờ !!\")"
   ]
  },
  {
   "cell_type": "markdown",
   "metadata": {},
   "source": [
    "### **4.3 Nối tiếp lệnh gọi ban đầu bằng một loạt lệnh gọi tiếp theo**"
   ]
  },
  {
   "cell_type": "code",
   "execution_count": 25,
   "metadata": {},
   "outputs": [
    {
     "name": "stdout",
     "output_type": "stream",
     "text": [
      "**\"Bi kịch lúc hoàng hôn trên bãi biển\": Một bức tranh về đau khổ và quyết tâm**\n",
      "\n",
      "Vở kịch \"Bi kịch lúc hoàng hôn trên bãi biển\" của tác giả [tên tác giả] là một bức tranh về đau khổ và quyết tâm, được vẽ nên trên nền tảng của biển và hoàng hôn. Với nhân vật chính Linh, một người phụ nữ đau khổ và quyết tâm tìm lại công lý cho chồng cô, vở kịch này đã đưa khán giả vào một cuộc hành trình đầy cảm xúc và phức tạp.\n",
      "\n",
      "Việc quay trở lại bãi biển quen thuộc của Linh đã mở ra một hộp Pandora của những bí mật và bi kịch của quá khứ. Cô phải đối mặt với nỗi đau, sự tức giận và sự hối tiếc, và quyết định tìm lại người phụ nữ đã gây ra tai họa cho chồng cô. Nhưng trong quá trình tìm kiếm, Linh lại phát hiện ra nhiều bí mật khác, và cô phải đối mặt với sự thật là chồng cô không phải là người cô tưởng tượng.\n",
      "\n",
      "Vở kịch này đã thể hiện một cách tài tình về sự đau khổ và sự lừa dối, và cách mà người phụ nữ có thể mạnh mẽ và quyết tâm trong việc tìm lại công lý và sự thật. Diễn xuất của nữ diễn viên chính là một điểm sáng của vở kịch, thể hiện một cách sâu sắc và chân thực về nhân vật Linh.\n",
      "\n",
      "Tuy nhiên, vở kịch này cũng có một số điểm yếu, chẳng hạn như một số cảnh quay quá dài và một số nhân vật phụ chưa được phát triển đầy đủ. Tuy nhiên, tổng thể vở kịch này là một bức tranh về đau khổ và quyết tâm, và là một trải nghiệm cảm xúc mạnh mẽ cho khán giả.\n",
      "\n",
      "**Đánh giá: 4/5 sao**\n",
      "\n",
      "Tôi khuyên khán giả nên đến xem vở kịch này, đặc biệt là những ai yêu thích thể loại kịch về gia đình và tình cảm. Vở kịch này sẽ đưa khán giả vào một cuộc hành trình đầy cảm xúc và phức tạp, và sẽ để lại một ấn tượng sâu sắc sau khi kết thúc.\n"
     ]
    }
   ],
   "source": [
    "synopsis_prompt = PromptTemplate.from_template(\n",
    "    \"\"\"Bạn là một nhà viết kịch. Với tựa đề của vở kịch, nhiệm vụ của bạn là viết tóm tắt cho tựa đề đó: {title}\n",
    "    Lưu ý: Bạn chỉ được sử dụng tiếng việt để trả lời:\n",
    "    Nhà viết kịch: Đây là bản tóm tắt của vở kịch trên:\"\"\"\n",
    ")\n",
    "\n",
    "review_prompt = PromptTemplate.from_template(\n",
    "    \"\"\"Bạn là nhà phê bình vở kịch của tờ New York Times. Đưa ra bản tóm tắt của vở kịch, công việc của bạn là viết bình luận cho vở kịch đó.\n",
    "    Lưu ý: Bạn chỉ được sử dụng tiếng việt để trả lời:\n",
    "    Play Synopsis:\n",
    "    {synopsis}\n",
    "    Đánh giá từ một nhà phê bình vở kịch trên tờ New York Times về vở kịch trên:\"\"\"\n",
    ")\n",
    "\n",
    "llm = ChatGroq(\n",
    "    model=\"llama3-70b-8192\",\n",
    "    api_key= os.getenv(\"GROQ_API_KEY\")\n",
    ")\n",
    "\n",
    "chain = (\n",
    "    {\"synopsis\": synopsis_prompt | llm | StrOutputParser()}\n",
    "    | review_prompt\n",
    "    | llm \n",
    "    | StrOutputParser()\n",
    ")\n",
    "\n",
    "response = chain.invoke({\"title\": \"Bi kịch lúc hoàng hôn trên bãi biển\"})\n",
    "\n",
    "print(response)\n"
   ]
  },
  {
   "cell_type": "code",
   "execution_count": 29,
   "metadata": {},
   "outputs": [
    {
     "name": "stdout",
     "output_type": "stream",
     "text": [
      "Đây là bản tóm tắt của vở kịch \"Bi kịch lúc hoàng hôn trên bãi biển\":\n",
      "\n",
      "Vở kịch \"Bi kịch lúc hoàng hôn trên bãi biển\" là một câu chuyện về tình yêu, sự mất mát và sự giải phóng. Cốt truyện xoay quanh hai nhân vật chính, Linh và Minh, một cặp đôi trẻ đã chia tay sau một sự kiện bi thảm xảy ra trong quá khứ.\n",
      "\n",
      "Sáu năm sau, Linh và Minh lại gặp nhau trên một bãi biển vào lúc hoàng hôn. Linh, giờ đã trở thành một người phụ nữ mạnh mẽ và độc lập, đang tìm kiếm sự giải phóng khỏi quá khứ đau khổ. Minh, vẫn còn bị ám ảnh bởi sự kiện cũ, đang tìm kiếm sự tha thứ và chữa lành.\n",
      "\n",
      "Trong suốt vở kịch, hai nhân vật phải đối mặt với nhau và với chính mình, để vượt qua nỗi đau và tìm kiếm sự giải phóng. Qua các cuộc đối thoại gay gắt và đầy xúc động, họ dần dần hé lộ những bí mật và sự thật đã bị giấu kín trong quá khứ.\n",
      "\n",
      "Cuối cùng, Linh và Minh phải quyết định có nên quay lại với nhau hay không, và liệu họ có thể vượt qua được những vết thương của quá khứ để xây dựng một tương lai mới hay không. Vở kịch \"Bi kịch lúc hoàng hôn trên bãi biển\" là một câu chuyện về tình yêu, sự mất mát và sự giải phóng, về những lựa chọn khó khăn và những quyết định quan trọng trong cuộc đời.\n",
      "==================================================\n",
      "**\"Bi kịch lúc hoàng hôn trên bãi biển\": Một câu chuyện về tình yêu, sự mất mát và sự giải phóng**\n",
      "\n",
      "Vở kịch \"Bi kịch lúc hoàng hôn trên bãi biển\" là một tác phẩm đầy xúc động và gay gắt, cuốn hút khán giả vào một câu chuyện về tình yêu, sự mất mát và sự giải phóng. Hai nhân vật chính, Linh và Minh, đều được khắc họa một cách sâu sắc và chân thực, mang lại một cảm giác gần gũi và chân thành cho khán giả.\n",
      "\n",
      "Cốt truyện xoay quanh hai nhân vật này, với những cuộc đối thoại gay gắt và đầy xúc động, đã dần dần hé lộ những bí mật và sự thật đã bị giấu kín trong quá khứ. Tác giả đã khéo léo xây dựng nên một câu chuyện phức tạp và đa dạng, với những tình tiết đầy kịch tính và những quyết định khó khăn.\n",
      "\n",
      "Điểm mạnh nhất của vở kịch này là cách miêu tả nhân vật. Linh và Minh đều được khắc họa một cách chi tiết và sâu sắc, với những cảm xúc và suy nghĩ được thể hiện một cách chân thực và sống động. Diễn viên đã thể hiện vai trò của mình một cách xuất sắc, mang lại một cảm giác gần gũi và chân thành cho khán giả.\n",
      "\n",
      "Tuy nhiên, vở kịch này cũng có một số điểm yếu. Cốt truyện đôi khi bị kéo dài và lan man, làm cho khán giả cảm thấy hơi nhàm chán. Một số tình tiết cũng được thể hiện một cách hơi quá mức, làm cho khán giả cảm thấy hơi khó hiểu.\n",
      "\n",
      "Tóm lại, \"Bi kịch lúc hoàng hôn trên bãi biển\" là một vở kịch đầy xúc động và gay gắt, với những nhân vật được khắc họa một cách sâu sắc và chân thực. Mặc dù có một số điểm yếu, vở kịch này vẫn là một tác phẩm đáng xem và sẽ để lại một ấn tượng sâu sắc trong lòng khán giả.\n"
     ]
    }
   ],
   "source": [
    "from langchain.schema.runnable import RunnablePassthrough\n",
    "synopsis_chain = synopsis_prompt | llm | StrOutputParser()\n",
    "review_chain = review_prompt | llm | StrOutputParser()\n",
    "\n",
    "chain = {\"synopsis\": synopsis_chain} | RunnablePassthrough.assign(review=review_chain)\n",
    "response = chain.invoke({\"title\": \"Bi kịch lúc hoàng hôn trên bãi biển\"})\n",
    "print(response['synopsis'])\n",
    "print(\"=\" * 50)\n",
    "print(response['review'])"
   ]
  },
  {
   "cell_type": "markdown",
   "metadata": {},
   "source": [
    "### **4.4 SequentialChain**"
   ]
  },
  {
   "cell_type": "code",
   "execution_count": 31,
   "metadata": {},
   "outputs": [
    {
     "name": "stdout",
     "output_type": "stream",
     "text": [
      "\n",
      "\n",
      "\u001b[1m> Entering new SequentialChain chain...\u001b[0m\n",
      "\n",
      "\u001b[1m> Finished chain.\u001b[0m\n"
     ]
    },
    {
     "data": {
      "text/plain": [
       "{'title': 'Bi kịch lúc hoàng hôn trên bãi biển',\n",
       " 'era': 'nước Anh thời Victoria',\n",
       " 'synopsis': 'Bi kịch lúc hoàng hôn trên bãi biển là một vở kịch bi thương được đặt ra trong thời kỳ Victoria nước Anh, vào cuối thế kỷ 19. Vở kịch xoay quanh câu chuyện của hai nhân vật chính, Emily và James, hai người trẻ thuộc tầng lớp thượng lưu nước Anh.\\n\\nCâu chuyện bắt đầu vào một buổi hoàng hôn trên bãi biển, nơi Emily và James gặp nhau sau một thời gian dài xa nhau. Hai người từng có một mối tình sâu sắc, nhưng đã bị chia cắt bởi sự khác biệt về địa vị xã hội và gia đình. Emily là con gái của một gia đình quý tộc, trong khi James lại là con của một người nghèo.\\n\\nTại bãi biển, Emily và James lại gặp nhau và hồi tưởng lại những kỷ niệm ngọt ngào của họ. Tuy nhiên, họ sớm nhận ra rằng họ không thể quay lại với nhau, vì Emily đã được hứa hôn với một người đàn ông khác, thuộc tầng lớp cao quý hơn. James, cảm thấy đau khổ và tuyệt vọng, đã quyết định rời đi, để lại Emily với sự đau khổ và lòng tiếc nuối.\\n\\nTrong khi Emily quay lại với cuộc sống thường ngày, nhưng cô không thể quên được James. Cô bắt đầu cảm thấy bị mắc kẹt trong cuộc sống hôn nhân không hạnh phúc và quyết định tìm lại James. Tuy nhiên, khi cô tìm thấy James, cô lại phải đối mặt với một sự thật đau lòng: James đã trở thành một người nghiện rượu và đã đánh mất tất cả.\\n\\nVở kịch kết thúc với một cảnh Emily và James ngồi cùng nhau trên bãi biển, nơi họ từng hẹn hò, và chia sẻ với nhau về những đau khổ và tiếc nuối của họ. Cảnh cuối cùng là hai người chia tay nhau, với Emily quay lại với cuộc sống hôn nhân không hạnh phúc và James quay lại với cuộc sống cô đơn.\\n\\nVở kịch này là một câu chuyện về sự đau khổ, tiếc nuối và sự hy sinh, và nó sẽ khiến khán giả phải suy nghĩ về giá trị của tình yêu và hạnh phúc trong cuộc sống.',\n",
       " 'review': '**Bi kịch lúc hoàng hôn trên bãi biển: Một câu chuyện về sự đau khổ và tiếc nuối**\\n\\nTrong vở kịch mới nhất của nhà biên kịch tài năng, khán giả sẽ được đưa vào một thế giới của sự đau khổ, tiếc nuối và sự hy sinh. Bi kịch lúc hoàng hôn trên bãi biển là một vở kịch sâu sắc và cảm động, với hai nhân vật chính Emily và James, hai người trẻ thuộc tầng lớp thượng lưu nước Anh, sống trong thời kỳ Victoria.\\n\\nVở kịch được đặt trong một khung cảnh lãng mạn trên bãi biển vào hoàng hôn, nơi Emily và James gặp nhau sau một thời gian dài xa nhau. Hai người từng có một mối tình sâu sắc, nhưng đã bị chia cắt bởi sự khác biệt về địa vị xã hội và gia đình. Sự gặp gỡ lại của họ trên bãi biển là một khoảnh khắc đầy cảm xúc, khi họ hồi tưởng lại những kỷ niệm ngọt ngào của họ.\\n\\nTuy nhiên, vở kịch không chỉ dừng lại ở đó. Nhà biên kịch đã khéo léo dẫn dắt khán giả vào một cuộc hành trình đầy đau khổ và tiếc nuối của hai nhân vật chính. Emily, người đã được hứa hôn với một người đàn ông khác, thuộc tầng lớp cao quý hơn, phải đối mặt với sự đau khổ và lòng tiếc nuối khi cô quyết định tìm lại James. Và khi cô tìm thấy James, cô lại phải đối mặt với một sự thật đau lòng: James đã trở thành một người nghiện rượu và đã đánh mất tất cả.\\n\\nVở kịch kết thúc với một cảnh cuối cùng đầy cảm xúc, khi Emily và James ngồi cùng nhau trên bãi biển, chia sẻ với nhau về những đau khổ và tiếc nuối của họ. Cảnh cuối cùng là hai người chia tay nhau, với Emily quay lại với cuộc sống hôn nhân không hạnh phúc và James quay lại với cuộc sống cô đơn.\\n\\nNhà biên kịch đã thể hiện một tài năng lớn trong việc xây dựng các nhân vật và dẫn dắt khán giả vào một cuộc hành trình đầy cảm xúc. Diễn viên đóng vai Emily và James cũng đã thể hiện một cách tuyệt vời, mang lại một cảm xúc chân thực và sâu sắc cho khán giả.\\n\\nBi kịch lúc hoàng hôn trên bãi biển là một vở kịch sâu sắc và cảm động, một câu chuyện về sự đau khổ, tiếc nuối và sự hy sinh. Vở kịch này sẽ khiến khán giả phải suy nghĩ về giá trị của tình yêu và hạnh phúc trong cuộc sống. Đừng bỏ lỡ cơ hội xem vở kịch này, bạn sẽ được thưởng thức một kinh nghiệm sân khấu đầy cảm xúc và sâu sắc.'}"
      ]
     },
     "execution_count": 31,
     "metadata": {},
     "output_type": "execute_result"
    }
   ],
   "source": [
    "from langchain.chains import LLMChain, SequentialChain\n",
    "from langchain.prompts import PromptTemplate\n",
    "\n",
    "llm = ChatGroq(\n",
    "    model=\"llama3-70b-8192\",\n",
    "    api_key= os.getenv(\"GROQ_API_KEY\")\n",
    ")\n",
    "\n",
    "synopsis_template = \"\"\"Bạn là một nhà viết kịch. Với tựa đề của vở kịch và thời đại nó được đặt ra, công việc của bạn là viết một bản tóm tắt cho tựa đề đó.\n",
    "Lưu ý: Bạn chỉ được sử dụng tiếng việt để trả lời.\n",
    "Title: {title}\n",
    "Era: {era}\n",
    "Playwrite: Đây là bản tóm tắt của vở kịch trên:\"\"\"\n",
    "synopsis_prompt_template = PromptTemplate(input_variables=[\"title\", \"era\"], template=synopsis_template)\n",
    "synopsis_chain = LLMChain(llm=llm, prompt=synopsis_prompt_template, output_key=\"synopsis\")\n",
    "\n",
    "review_template = \"\"\"bạn là nhà phê bình vở kịch của tờ New York Times. Dựa trên bản tóm tắt của vở kịch, công việc của bạn là viết bài đánh giá cho vở kịch đó\n",
    "Lưu ý: Bạn chỉ được sử dụng tiếng việt để trả lời.\n",
    "Play Synopsis:\n",
    "{synopsis}\n",
    "Bài đánh giá từ một nhà phê bình vở kịch trên New York Times về vở kịch trên:\"\"\"\n",
    "prompt_template = PromptTemplate(input_variables=[\"synopsis\"], template=review_template)\n",
    "review_chain = LLMChain(llm=llm, prompt=prompt_template, output_key=\"review\")\n",
    "\n",
    "overall_chain = SequentialChain(\n",
    "    chains=[synopsis_chain, review_chain],\n",
    "    input_variables=[\"era\", \"title\"],\n",
    "    output_variables=[\"synopsis\", \"review\"],\n",
    "    verbose=True,\n",
    ")\n",
    "\n",
    "overall_chain({\"title\": \"Bi kịch lúc hoàng hôn trên bãi biển\", \"era\": \"nước Anh thời Victoria\"})"
   ]
  },
  {
   "cell_type": "code",
   "execution_count": null,
   "metadata": {},
   "outputs": [],
   "source": []
  },
  {
   "cell_type": "code",
   "execution_count": null,
   "metadata": {},
   "outputs": [],
   "source": []
  },
  {
   "cell_type": "code",
   "execution_count": null,
   "metadata": {},
   "outputs": [],
   "source": []
  },
  {
   "cell_type": "code",
   "execution_count": null,
   "metadata": {},
   "outputs": [],
   "source": []
  },
  {
   "cell_type": "code",
   "execution_count": null,
   "metadata": {},
   "outputs": [],
   "source": []
  }
 ],
 "metadata": {
  "kernelspec": {
   "display_name": "base",
   "language": "python",
   "name": "python3"
  },
  "language_info": {
   "codemirror_mode": {
    "name": "ipython",
    "version": 3
   },
   "file_extension": ".py",
   "mimetype": "text/x-python",
   "name": "python",
   "nbconvert_exporter": "python",
   "pygments_lexer": "ipython3",
   "version": "3.11.7"
  }
 },
 "nbformat": 4,
 "nbformat_minor": 2
}
